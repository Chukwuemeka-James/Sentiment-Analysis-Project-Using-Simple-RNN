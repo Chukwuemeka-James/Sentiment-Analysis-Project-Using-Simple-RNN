{
 "cells": [
  {
   "cell_type": "code",
   "execution_count": 1,
   "metadata": {},
   "outputs": [],
   "source": [
    "# Step 1: Import Libraries and Load the Model\n",
    "import numpy as np\n",
    "import tensorflow as tf\n",
    "from tensorflow.keras.datasets import imdb\n",
    "from tensorflow.keras.preprocessing import sequence\n",
    "from tensorflow.keras.models import load_model"
   ]
  },
  {
   "cell_type": "code",
   "execution_count": 2,
   "metadata": {},
   "outputs": [],
   "source": [
    "\n",
    "# Load the IMDB dataset word index\n",
    "word_index = imdb.get_word_index()\n",
    "reverse_word_index = {value: key for key, value in word_index.items()}"
   ]
  },
  {
   "cell_type": "code",
   "execution_count": 3,
   "metadata": {},
   "outputs": [
    {
     "name": "stderr",
     "output_type": "stream",
     "text": [
      "WARNING:absl:Compiled the loaded model, but the compiled metrics have yet to be built. `model.compile_metrics` will be empty until you train or evaluate the model.\n"
     ]
    },
    {
     "data": {
      "text/html": [
       "<pre style=\"white-space:pre;overflow-x:auto;line-height:normal;font-family:Menlo,'DejaVu Sans Mono',consolas,'Courier New',monospace\"><span style=\"font-weight: bold\">Model: \"sequential\"</span>\n",
       "</pre>\n"
      ],
      "text/plain": [
       "\u001b[1mModel: \"sequential\"\u001b[0m\n"
      ]
     },
     "metadata": {},
     "output_type": "display_data"
    },
    {
     "data": {
      "text/html": [
       "<pre style=\"white-space:pre;overflow-x:auto;line-height:normal;font-family:Menlo,'DejaVu Sans Mono',consolas,'Courier New',monospace\">┏━━━━━━━━━━━━━━━━━━━━━━━━━━━━━━━━━┳━━━━━━━━━━━━━━━━━━━━━━━━┳━━━━━━━━━━━━━━━┓\n",
       "┃<span style=\"font-weight: bold\"> Layer (type)                    </span>┃<span style=\"font-weight: bold\"> Output Shape           </span>┃<span style=\"font-weight: bold\">       Param # </span>┃\n",
       "┡━━━━━━━━━━━━━━━━━━━━━━━━━━━━━━━━━╇━━━━━━━━━━━━━━━━━━━━━━━━╇━━━━━━━━━━━━━━━┩\n",
       "│ embedding (<span style=\"color: #0087ff; text-decoration-color: #0087ff\">Embedding</span>)           │ (<span style=\"color: #00af00; text-decoration-color: #00af00\">32</span>, <span style=\"color: #00af00; text-decoration-color: #00af00\">500</span>, <span style=\"color: #00af00; text-decoration-color: #00af00\">128</span>)         │     <span style=\"color: #00af00; text-decoration-color: #00af00\">1,280,000</span> │\n",
       "├─────────────────────────────────┼────────────────────────┼───────────────┤\n",
       "│ simple_rnn (<span style=\"color: #0087ff; text-decoration-color: #0087ff\">SimpleRNN</span>)          │ (<span style=\"color: #00af00; text-decoration-color: #00af00\">32</span>, <span style=\"color: #00af00; text-decoration-color: #00af00\">128</span>)              │        <span style=\"color: #00af00; text-decoration-color: #00af00\">32,896</span> │\n",
       "├─────────────────────────────────┼────────────────────────┼───────────────┤\n",
       "│ dense (<span style=\"color: #0087ff; text-decoration-color: #0087ff\">Dense</span>)                   │ (<span style=\"color: #00af00; text-decoration-color: #00af00\">32</span>, <span style=\"color: #00af00; text-decoration-color: #00af00\">1</span>)                │           <span style=\"color: #00af00; text-decoration-color: #00af00\">129</span> │\n",
       "└─────────────────────────────────┴────────────────────────┴───────────────┘\n",
       "</pre>\n"
      ],
      "text/plain": [
       "┏━━━━━━━━━━━━━━━━━━━━━━━━━━━━━━━━━┳━━━━━━━━━━━━━━━━━━━━━━━━┳━━━━━━━━━━━━━━━┓\n",
       "┃\u001b[1m \u001b[0m\u001b[1mLayer (type)                   \u001b[0m\u001b[1m \u001b[0m┃\u001b[1m \u001b[0m\u001b[1mOutput Shape          \u001b[0m\u001b[1m \u001b[0m┃\u001b[1m \u001b[0m\u001b[1m      Param #\u001b[0m\u001b[1m \u001b[0m┃\n",
       "┡━━━━━━━━━━━━━━━━━━━━━━━━━━━━━━━━━╇━━━━━━━━━━━━━━━━━━━━━━━━╇━━━━━━━━━━━━━━━┩\n",
       "│ embedding (\u001b[38;5;33mEmbedding\u001b[0m)           │ (\u001b[38;5;34m32\u001b[0m, \u001b[38;5;34m500\u001b[0m, \u001b[38;5;34m128\u001b[0m)         │     \u001b[38;5;34m1,280,000\u001b[0m │\n",
       "├─────────────────────────────────┼────────────────────────┼───────────────┤\n",
       "│ simple_rnn (\u001b[38;5;33mSimpleRNN\u001b[0m)          │ (\u001b[38;5;34m32\u001b[0m, \u001b[38;5;34m128\u001b[0m)              │        \u001b[38;5;34m32,896\u001b[0m │\n",
       "├─────────────────────────────────┼────────────────────────┼───────────────┤\n",
       "│ dense (\u001b[38;5;33mDense\u001b[0m)                   │ (\u001b[38;5;34m32\u001b[0m, \u001b[38;5;34m1\u001b[0m)                │           \u001b[38;5;34m129\u001b[0m │\n",
       "└─────────────────────────────────┴────────────────────────┴───────────────┘\n"
      ]
     },
     "metadata": {},
     "output_type": "display_data"
    },
    {
     "data": {
      "text/html": [
       "<pre style=\"white-space:pre;overflow-x:auto;line-height:normal;font-family:Menlo,'DejaVu Sans Mono',consolas,'Courier New',monospace\"><span style=\"font-weight: bold\"> Total params: </span><span style=\"color: #00af00; text-decoration-color: #00af00\">1,313,027</span> (5.01 MB)\n",
       "</pre>\n"
      ],
      "text/plain": [
       "\u001b[1m Total params: \u001b[0m\u001b[38;5;34m1,313,027\u001b[0m (5.01 MB)\n"
      ]
     },
     "metadata": {},
     "output_type": "display_data"
    },
    {
     "data": {
      "text/html": [
       "<pre style=\"white-space:pre;overflow-x:auto;line-height:normal;font-family:Menlo,'DejaVu Sans Mono',consolas,'Courier New',monospace\"><span style=\"font-weight: bold\"> Trainable params: </span><span style=\"color: #00af00; text-decoration-color: #00af00\">1,313,025</span> (5.01 MB)\n",
       "</pre>\n"
      ],
      "text/plain": [
       "\u001b[1m Trainable params: \u001b[0m\u001b[38;5;34m1,313,025\u001b[0m (5.01 MB)\n"
      ]
     },
     "metadata": {},
     "output_type": "display_data"
    },
    {
     "data": {
      "text/html": [
       "<pre style=\"white-space:pre;overflow-x:auto;line-height:normal;font-family:Menlo,'DejaVu Sans Mono',consolas,'Courier New',monospace\"><span style=\"font-weight: bold\"> Non-trainable params: </span><span style=\"color: #00af00; text-decoration-color: #00af00\">0</span> (0.00 B)\n",
       "</pre>\n"
      ],
      "text/plain": [
       "\u001b[1m Non-trainable params: \u001b[0m\u001b[38;5;34m0\u001b[0m (0.00 B)\n"
      ]
     },
     "metadata": {},
     "output_type": "display_data"
    },
    {
     "data": {
      "text/html": [
       "<pre style=\"white-space:pre;overflow-x:auto;line-height:normal;font-family:Menlo,'DejaVu Sans Mono',consolas,'Courier New',monospace\"><span style=\"font-weight: bold\"> Optimizer params: </span><span style=\"color: #00af00; text-decoration-color: #00af00\">2</span> (12.00 B)\n",
       "</pre>\n"
      ],
      "text/plain": [
       "\u001b[1m Optimizer params: \u001b[0m\u001b[38;5;34m2\u001b[0m (12.00 B)\n"
      ]
     },
     "metadata": {},
     "output_type": "display_data"
    }
   ],
   "source": [
    "# Load the pre-trained model with ReLU activation\n",
    "model = load_model('simple_rnn_imdb.h5')\n",
    "model.summary()"
   ]
  },
  {
   "cell_type": "code",
   "execution_count": 4,
   "metadata": {},
   "outputs": [
    {
     "data": {
      "text/plain": [
       "[array([[-0.0550609 , -0.04304222, -0.02246733, ...,  0.05740264,\n",
       "          0.07035898, -0.03565283],\n",
       "        [-0.00070014,  0.02069723,  0.00677775, ...,  0.0534401 ,\n",
       "          0.04440489, -0.00807016],\n",
       "        [-0.06851243, -0.02982474, -0.02579173, ...,  0.04491016,\n",
       "          0.05323195, -0.04737886],\n",
       "        ...,\n",
       "        [-0.02455154,  0.03745456, -0.04396228, ...,  0.03036067,\n",
       "          0.03200044, -0.04980284],\n",
       "        [-0.01556252,  0.07683443,  0.05315771, ..., -0.09042454,\n",
       "         -0.13264814,  0.05679304],\n",
       "        [-0.09680559, -0.10137235,  0.03876163, ...,  0.09603095,\n",
       "          0.03208005, -0.04754036]], dtype=float32),\n",
       " array([[ 0.04418357,  0.05054142,  0.07950852, ...,  0.05477458,\n",
       "          0.02776029, -0.05888058],\n",
       "        [ 0.00335329, -0.09026419,  0.03681474, ...,  0.10427924,\n",
       "         -0.04358689, -0.13686444],\n",
       "        [-0.00475947, -0.06878433,  0.00977017, ...,  0.07812136,\n",
       "          0.12423484,  0.11009327],\n",
       "        ...,\n",
       "        [-0.13505653, -0.06935818, -0.12325444, ...,  0.08525313,\n",
       "         -0.0862735 ,  0.10578379],\n",
       "        [-0.07690443, -0.09234898,  0.06014149, ..., -0.07231925,\n",
       "         -0.01905468,  0.03097067],\n",
       "        [ 0.09447967,  0.00974725,  0.13937283, ...,  0.1627503 ,\n",
       "          0.08954308, -0.10246581]], dtype=float32),\n",
       " array([[-0.09890668,  0.20084472,  0.04678364, ..., -0.08250312,\n",
       "         -0.00240528, -0.11524887],\n",
       "        [-0.01142359, -0.07765444,  0.14517932, ..., -0.08670896,\n",
       "          0.04270066,  0.105111  ],\n",
       "        [-0.2311705 , -0.09178653, -0.02904339, ..., -0.09053215,\n",
       "         -0.10327528,  0.08006274],\n",
       "        ...,\n",
       "        [ 0.00814486,  0.03611049,  0.0698578 , ..., -0.06274467,\n",
       "          0.05734572,  0.09403107],\n",
       "        [-0.17234138, -0.00751935,  0.09521007, ...,  0.09745749,\n",
       "          0.06221895, -0.04567004],\n",
       "        [ 0.00126718,  0.00236536,  0.12356277, ...,  0.10177922,\n",
       "         -0.02443323,  0.12263425]], dtype=float32),\n",
       " array([-1.55947246e-02,  1.25558702e-02,  1.00178812e-02,  1.02241116e-03,\n",
       "        -4.39970149e-03, -2.74350448e-03,  7.96575192e-03,  1.95808266e-03,\n",
       "        -2.27373515e-04,  7.75823276e-03, -7.14218803e-03,  4.95927688e-03,\n",
       "        -1.79472454e-02, -3.99342878e-03, -4.83467197e-03,  2.99459440e-03,\n",
       "         1.64046200e-04, -9.92863812e-03,  6.57594111e-03,  1.02020465e-02,\n",
       "        -1.86927579e-02,  6.05862401e-03, -1.12864766e-02, -1.10575035e-02,\n",
       "         5.53619349e-03, -5.69552556e-03,  1.71135087e-03, -1.14205177e-03,\n",
       "        -3.97743471e-03,  5.89708751e-03,  1.38993785e-02,  2.35104598e-02,\n",
       "         1.25436708e-02, -8.92778952e-03, -1.68398023e-02, -2.50387341e-02,\n",
       "         8.79230164e-03, -4.64172149e-03,  2.95146764e-03,  6.79132994e-04,\n",
       "        -2.09827963e-02, -5.86788496e-03, -6.50526863e-03,  1.57566611e-02,\n",
       "         7.06799887e-03,  1.78265404e-02,  6.92656171e-03, -1.40457004e-02,\n",
       "         8.71772063e-04, -8.61536060e-03, -4.28560600e-02,  8.65735300e-03,\n",
       "        -1.00515001e-02,  5.07066989e-06,  2.04598457e-02,  3.02697113e-03,\n",
       "        -2.00613514e-02, -1.25010246e-02,  9.95153934e-03, -3.55748902e-03,\n",
       "        -1.47663301e-03, -2.41313549e-03,  1.15008764e-02, -9.57336091e-03,\n",
       "        -1.79088358e-02, -1.86911598e-02,  1.67773180e-02, -2.32472476e-02,\n",
       "        -1.12528093e-02,  4.65828180e-03,  1.25746969e-02,  1.47191975e-02,\n",
       "        -2.38200221e-02,  1.00009283e-03,  2.01876517e-02,  1.02845645e-02,\n",
       "        -8.81498214e-03, -1.80405658e-02,  2.88590882e-03, -6.88311411e-03,\n",
       "        -2.00780109e-03, -2.50699688e-02, -2.88906619e-02, -1.92843098e-02,\n",
       "        -1.18534518e-02,  7.64860306e-03, -1.00186141e-02, -3.97697603e-03,\n",
       "        -1.69032868e-02, -1.91350058e-02,  7.94067886e-03, -1.66084878e-02,\n",
       "         1.51663199e-02,  1.40181445e-02, -1.59960743e-02, -3.49962432e-03,\n",
       "         1.61177367e-02, -1.71557944e-02,  3.68831377e-03, -2.22389661e-02,\n",
       "        -1.43362945e-02,  2.55259853e-02, -7.67307868e-03, -1.44158816e-02,\n",
       "        -1.25803836e-02, -1.48086147e-02,  2.16280054e-02, -1.44652100e-02,\n",
       "        -3.53830424e-03, -1.39571894e-02, -1.63497832e-02, -2.99638649e-03,\n",
       "        -1.47910938e-02,  8.64891335e-03,  3.23966640e-04,  6.06248761e-03,\n",
       "        -1.57192687e-03,  1.24961715e-02, -1.49019547e-02, -6.96396083e-03,\n",
       "         1.36606861e-03,  1.56386327e-02, -1.70832209e-03, -8.66163243e-03,\n",
       "        -1.42271481e-02, -1.72151747e-04,  8.46729614e-03,  1.32386088e-02],\n",
       "       dtype=float32),\n",
       " array([[-3.19484115e-01],\n",
       "        [-6.61188439e-02],\n",
       "        [-6.52828366e-02],\n",
       "        [ 1.91156641e-01],\n",
       "        [-1.90252200e-01],\n",
       "        [-4.81012501e-02],\n",
       "        [ 8.70374590e-02],\n",
       "        [ 8.65265611e-04],\n",
       "        [ 4.03098650e-02],\n",
       "        [-1.81823105e-01],\n",
       "        [-2.39518005e-02],\n",
       "        [-2.15612739e-01],\n",
       "        [ 1.09934986e-01],\n",
       "        [-1.10341541e-01],\n",
       "        [ 6.29730761e-01],\n",
       "        [ 7.00337589e-01],\n",
       "        [-2.10440814e-01],\n",
       "        [-1.13209672e-01],\n",
       "        [-4.50933650e-02],\n",
       "        [-9.84464809e-02],\n",
       "        [-3.81489515e-01],\n",
       "        [-4.15007800e-01],\n",
       "        [-3.95321131e-01],\n",
       "        [-5.67612099e-03],\n",
       "        [-3.90934616e-01],\n",
       "        [-7.38148242e-02],\n",
       "        [-3.10365766e-01],\n",
       "        [-8.44406635e-02],\n",
       "        [-1.76675230e-01],\n",
       "        [-4.86312285e-02],\n",
       "        [ 4.17768024e-02],\n",
       "        [ 1.00482151e-01],\n",
       "        [ 1.43671438e-01],\n",
       "        [ 1.07520744e-01],\n",
       "        [ 4.55116332e-01],\n",
       "        [-4.23311323e-01],\n",
       "        [-1.07655692e+00],\n",
       "        [-1.78967163e-01],\n",
       "        [-9.88262594e-02],\n",
       "        [-5.85764572e-02],\n",
       "        [-1.07546583e-01],\n",
       "        [ 2.74048477e-01],\n",
       "        [ 4.28477973e-02],\n",
       "        [ 1.25512406e-01],\n",
       "        [-1.77253306e-01],\n",
       "        [-4.71315570e-02],\n",
       "        [-9.81968716e-02],\n",
       "        [ 1.02033131e-01],\n",
       "        [-1.41887009e-01],\n",
       "        [ 5.06612360e-01],\n",
       "        [-2.00727545e-02],\n",
       "        [-1.44437775e-01],\n",
       "        [-5.26254810e-02],\n",
       "        [-2.25185156e-01],\n",
       "        [-1.70656532e-01],\n",
       "        [-1.59996793e-01],\n",
       "        [ 6.74175322e-02],\n",
       "        [ 7.90842101e-02],\n",
       "        [ 1.83782339e-01],\n",
       "        [ 2.42591783e-01],\n",
       "        [-1.10284671e-01],\n",
       "        [ 5.25056958e-01],\n",
       "        [ 2.20531821e-01],\n",
       "        [-2.14949414e-01],\n",
       "        [ 1.66617393e-01],\n",
       "        [-7.33996481e-02],\n",
       "        [ 3.21041197e-01],\n",
       "        [-7.23946691e-02],\n",
       "        [-2.32408091e-01],\n",
       "        [-2.76578486e-01],\n",
       "        [ 1.14100680e-01],\n",
       "        [ 1.09243467e-01],\n",
       "        [-1.52031407e-01],\n",
       "        [ 3.17549974e-01],\n",
       "        [ 5.60273007e-02],\n",
       "        [-2.09476978e-01],\n",
       "        [-8.41268972e-02],\n",
       "        [-4.50305432e-01],\n",
       "        [-2.21210971e-01],\n",
       "        [ 4.48102355e-02],\n",
       "        [-1.96551442e-01],\n",
       "        [-8.97028856e-03],\n",
       "        [-2.22989053e-01],\n",
       "        [ 7.79520795e-02],\n",
       "        [-1.81493923e-01],\n",
       "        [-4.41748977e-01],\n",
       "        [ 1.10952102e-01],\n",
       "        [-1.65798709e-01],\n",
       "        [-6.32080317e-01],\n",
       "        [ 1.09825246e-01],\n",
       "        [-2.28865713e-01],\n",
       "        [-1.39865324e-01],\n",
       "        [ 3.27579468e-01],\n",
       "        [-2.07653254e-01],\n",
       "        [-5.19189611e-02],\n",
       "        [ 5.82668371e-03],\n",
       "        [ 7.07581220e-03],\n",
       "        [-1.94862455e-01],\n",
       "        [-8.58300105e-02],\n",
       "        [-2.48525918e-01],\n",
       "        [-1.57232080e-02],\n",
       "        [-7.52525553e-02],\n",
       "        [ 1.19070495e-02],\n",
       "        [ 1.60543874e-01],\n",
       "        [-1.88531771e-01],\n",
       "        [-1.93364561e-01],\n",
       "        [-7.21647292e-02],\n",
       "        [ 6.32247478e-02],\n",
       "        [ 1.76441878e-01],\n",
       "        [-1.36983216e-01],\n",
       "        [ 2.07083195e-01],\n",
       "        [-5.64396828e-02],\n",
       "        [ 7.09740758e-01],\n",
       "        [ 9.77963433e-02],\n",
       "        [ 3.07741374e-01],\n",
       "        [ 2.15269357e-01],\n",
       "        [-4.21101600e-02],\n",
       "        [-8.17676559e-02],\n",
       "        [-7.52961487e-02],\n",
       "        [-8.46069492e-03],\n",
       "        [-1.02198474e-01],\n",
       "        [ 2.29848847e-01],\n",
       "        [-2.00896375e-02],\n",
       "        [-1.27659664e-01],\n",
       "        [ 6.42794073e-02],\n",
       "        [ 2.39610881e-01],\n",
       "        [ 2.13624150e-01],\n",
       "        [ 2.18654200e-01]], dtype=float32),\n",
       " array([-0.85303974], dtype=float32)]"
      ]
     },
     "execution_count": 4,
     "metadata": {},
     "output_type": "execute_result"
    }
   ],
   "source": [
    "model.get_weights()"
   ]
  },
  {
   "cell_type": "code",
   "execution_count": 5,
   "metadata": {},
   "outputs": [],
   "source": [
    "# Step 2: Helper Functions\n",
    "# Function to decode reviews\n",
    "def decode_review(encoded_review):\n",
    "    return ' '.join([reverse_word_index.get(i - 3, '?') for i in encoded_review])\n",
    "\n",
    "# Function to preprocess user input\n",
    "def preprocess_text(text):\n",
    "    words = text.lower().split()\n",
    "    encoded_review = [word_index.get(word, 2) + 3 for word in words]\n",
    "    padded_review = sequence.pad_sequences([encoded_review], maxlen=500)\n",
    "    return padded_review"
   ]
  },
  {
   "cell_type": "code",
   "execution_count": 6,
   "metadata": {},
   "outputs": [],
   "source": [
    "### Prediction  function\n",
    "\n",
    "def predict_sentiment(review):\n",
    "    preprocessed_input=preprocess_text(review)\n",
    "\n",
    "    prediction=model.predict(preprocessed_input)\n",
    "\n",
    "    sentiment = 'Positive' if prediction[0][0] > 0.5 else 'Negative'\n",
    "    \n",
    "    return sentiment, prediction[0][0]\n",
    "\n"
   ]
  },
  {
   "cell_type": "code",
   "execution_count": 7,
   "metadata": {},
   "outputs": [
    {
     "name": "stdout",
     "output_type": "stream",
     "text": [
      "\u001b[1m1/1\u001b[0m \u001b[32m━━━━━━━━━━━━━━━━━━━━\u001b[0m\u001b[37m\u001b[0m \u001b[1m0s\u001b[0m 292ms/step\n",
      "Review: This movie was fantastic! The acting was great and the plot was thrilling.\n",
      "Sentiment: Positive\n",
      "Prediction Score: 0.5031388401985168\n"
     ]
    }
   ],
   "source": [
    "# Step 4: User Input and Prediction\n",
    "# Example review for prediction\n",
    "example_review = \"This movie was fantastic! The acting was great and the plot was thrilling.\"\n",
    "\n",
    "sentiment,score=predict_sentiment(example_review)\n",
    "\n",
    "print(f'Review: {example_review}')\n",
    "print(f'Sentiment: {sentiment}')\n",
    "print(f'Prediction Score: {score}')"
   ]
  },
  {
   "cell_type": "code",
   "execution_count": null,
   "metadata": {},
   "outputs": [],
   "source": []
  },
  {
   "cell_type": "code",
   "execution_count": null,
   "metadata": {},
   "outputs": [],
   "source": []
  },
  {
   "cell_type": "code",
   "execution_count": null,
   "metadata": {},
   "outputs": [],
   "source": []
  },
  {
   "cell_type": "code",
   "execution_count": null,
   "metadata": {},
   "outputs": [],
   "source": []
  }
 ],
 "metadata": {
  "kernelspec": {
   "display_name": "tensorflowstudio",
   "language": "python",
   "name": "tensorflowstudio"
  },
  "language_info": {
   "codemirror_mode": {
    "name": "ipython",
    "version": 3
   },
   "file_extension": ".py",
   "mimetype": "text/x-python",
   "name": "python",
   "nbconvert_exporter": "python",
   "pygments_lexer": "ipython3",
   "version": "3.9.19"
  }
 },
 "nbformat": 4,
 "nbformat_minor": 2
}
